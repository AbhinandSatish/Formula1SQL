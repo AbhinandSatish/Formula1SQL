{
 "cells": [
  {
   "cell_type": "markdown",
   "metadata": {},
   "source": [
    "<b><u>Basic Introduction to installing packages using Jupyter and reading/writing tables in GCP</u></b>"
   ]
  },
  {
   "cell_type": "markdown",
   "metadata": {},
   "source": [
    "How to install packages in jupyter notebook?\n",
    "- write using the statement <b>!pip install <package_name></b> as shown below"
   ]
  },
  {
   "cell_type": "code",
   "execution_count": 14,
   "metadata": {},
   "outputs": [
    {
     "name": "stdout",
     "output_type": "stream",
     "text": [
      "Collecting db_dtypes\n",
      "  Downloading db_dtypes-1.0.4-py2.py3-none-any.whl (14 kB)\n",
      "Requirement already satisfied: pandas<2.0dev,>=0.24.2 in c:\\users\\abhin\\appdata\\local\\programs\\python\\python39\\lib\\site-packages (from db_dtypes) (1.4.3)\n",
      "Requirement already satisfied: numpy<2.0dev,>=1.16.6 in c:\\users\\abhin\\appdata\\local\\programs\\python\\python39\\lib\\site-packages (from db_dtypes) (1.23.1)\n",
      "Requirement already satisfied: pyarrow<10.0dev,>=3.0.0 in c:\\users\\abhin\\appdata\\local\\programs\\python\\python39\\lib\\site-packages (from db_dtypes) (8.0.0)\n",
      "Requirement already satisfied: packaging>=17.0 in c:\\users\\abhin\\appdata\\roaming\\python\\python39\\site-packages (from db_dtypes) (21.3)\n",
      "Requirement already satisfied: pyparsing!=3.0.5,>=2.0.2 in c:\\users\\abhin\\appdata\\roaming\\python\\python39\\site-packages (from packaging>=17.0->db_dtypes) (3.0.9)\n",
      "Requirement already satisfied: python-dateutil>=2.8.1 in c:\\users\\abhin\\appdata\\roaming\\python\\python39\\site-packages (from pandas<2.0dev,>=0.24.2->db_dtypes) (2.8.2)\n",
      "Requirement already satisfied: pytz>=2020.1 in c:\\users\\abhin\\appdata\\local\\programs\\python\\python39\\lib\\site-packages (from pandas<2.0dev,>=0.24.2->db_dtypes) (2022.1)\n",
      "Requirement already satisfied: six>=1.5 in c:\\users\\abhin\\appdata\\roaming\\python\\python39\\site-packages (from python-dateutil>=2.8.1->pandas<2.0dev,>=0.24.2->db_dtypes) (1.16.0)\n",
      "Installing collected packages: db_dtypes\n",
      "Successfully installed db_dtypes-1.0.4\n"
     ]
    },
    {
     "name": "stderr",
     "output_type": "stream",
     "text": [
      "WARNING: You are using pip version 22.0.4; however, version 22.3 is available.\n",
      "You should consider upgrading via the 'C:\\Users\\abhin\\AppData\\Local\\Programs\\Python\\Python39\\python.exe -m pip install --upgrade pip' command.\n"
     ]
    }
   ],
   "source": [
    "!pip install db_dtypes"
   ]
  },
  {
   "cell_type": "markdown",
   "metadata": {},
   "source": [
    "Reading a csv file as a dataframe"
   ]
  },
  {
   "cell_type": "code",
   "execution_count": 23,
   "metadata": {},
   "outputs": [
    {
     "data": {
      "text/html": [
       "<div>\n",
       "<style scoped>\n",
       "    .dataframe tbody tr th:only-of-type {\n",
       "        vertical-align: middle;\n",
       "    }\n",
       "\n",
       "    .dataframe tbody tr th {\n",
       "        vertical-align: top;\n",
       "    }\n",
       "\n",
       "    .dataframe thead th {\n",
       "        text-align: right;\n",
       "    }\n",
       "</style>\n",
       "<table border=\"1\" class=\"dataframe\">\n",
       "  <thead>\n",
       "    <tr style=\"text-align: right;\">\n",
       "      <th></th>\n",
       "      <th>Season</th>\n",
       "      <th>Regulation change</th>\n",
       "      <th>Change influence</th>\n",
       "      <th>Change difference</th>\n",
       "      <th>competition increase</th>\n",
       "    </tr>\n",
       "  </thead>\n",
       "  <tbody>\n",
       "    <tr>\n",
       "      <th>0</th>\n",
       "      <td>1950</td>\n",
       "      <td>Engine specs set at 1500 cc maximum size for e...</td>\n",
       "      <td>NaN</td>\n",
       "      <td>NaN</td>\n",
       "      <td>NaN</td>\n",
       "    </tr>\n",
       "    <tr>\n",
       "      <th>1</th>\n",
       "      <td>1951</td>\n",
       "      <td>NaN</td>\n",
       "      <td>NaN</td>\n",
       "      <td>NaN</td>\n",
       "      <td>NaN</td>\n",
       "    </tr>\n",
       "    <tr>\n",
       "      <th>2</th>\n",
       "      <td>1952</td>\n",
       "      <td>NaN</td>\n",
       "      <td>NaN</td>\n",
       "      <td>NaN</td>\n",
       "      <td>NaN</td>\n",
       "    </tr>\n",
       "    <tr>\n",
       "      <th>3</th>\n",
       "      <td>1953</td>\n",
       "      <td>NaN</td>\n",
       "      <td>NaN</td>\n",
       "      <td>NaN</td>\n",
       "      <td>NaN</td>\n",
       "    </tr>\n",
       "    <tr>\n",
       "      <th>4</th>\n",
       "      <td>1954</td>\n",
       "      <td>Engine specs amended to allow 750 cc maximum e...</td>\n",
       "      <td>NaN</td>\n",
       "      <td>NaN</td>\n",
       "      <td>NaN</td>\n",
       "    </tr>\n",
       "  </tbody>\n",
       "</table>\n",
       "</div>"
      ],
      "text/plain": [
       "   Season                                   Regulation change  \\\n",
       "0     1950  Engine specs set at 1500 cc maximum size for e...   \n",
       "1     1951                                                NaN   \n",
       "2     1952                                                NaN   \n",
       "3     1953                                                NaN   \n",
       "4     1954  Engine specs amended to allow 750 cc maximum e...   \n",
       "\n",
       "   Change influence  Change difference  competition increase  \n",
       "0               NaN                NaN                   NaN  \n",
       "1               NaN                NaN                   NaN  \n",
       "2               NaN                NaN                   NaN  \n",
       "3               NaN                NaN                   NaN  \n",
       "4               NaN                NaN                   NaN  "
      ]
     },
     "execution_count": 23,
     "metadata": {},
     "output_type": "execute_result"
    }
   ],
   "source": [
    "import pandas as pd\n",
    "\n",
    "# CHANGE NAME OF FILE HERE WHICH YOU WANT TO SEE IN THE DATAFRAME\n",
    "df = pd.read_csv('F:\\\\Abhi\\\\code\\\\Vscode\\\\phyton\\\\raw_data\\\\regchanges.csv')\n",
    "\n",
    "df.head()"
   ]
  },
  {
   "cell_type": "markdown",
   "metadata": {},
   "source": [
    "Loading the above result into the a table in database/dataset"
   ]
  },
  {
   "cell_type": "code",
   "execution_count": 17,
   "metadata": {},
   "outputs": [
    {
     "ename": "BadRequest",
     "evalue": "400 POST https://bigquery.googleapis.com/upload/bigquery/v2/projects/abhinand-playground/jobs?uploadType=multipart: Invalid field name \"Season \". Fields must contain only letters, numbers, and underscores, start with a letter or underscore, and be at most 300 characters long.",
     "output_type": "error",
     "traceback": [
      "\u001b[1;31m---------------------------------------------------------------------------\u001b[0m",
      "\u001b[1;31mInvalidResponse\u001b[0m                           Traceback (most recent call last)",
      "File \u001b[1;32mc:\\Users\\abhin\\AppData\\Local\\Programs\\Python\\Python39\\lib\\site-packages\\google\\cloud\\bigquery\\client.py:2426\u001b[0m, in \u001b[0;36mClient.load_table_from_file\u001b[1;34m(self, file_obj, destination, rewind, size, num_retries, job_id, job_id_prefix, location, project, job_config, timeout)\u001b[0m\n\u001b[0;32m   2425\u001b[0m     \u001b[39melse\u001b[39;00m:\n\u001b[1;32m-> 2426\u001b[0m         response \u001b[39m=\u001b[39m \u001b[39mself\u001b[39;49m\u001b[39m.\u001b[39;49m_do_multipart_upload(\n\u001b[0;32m   2427\u001b[0m             file_obj, job_resource, size, num_retries, timeout, project\u001b[39m=\u001b[39;49mproject\n\u001b[0;32m   2428\u001b[0m         )\n\u001b[0;32m   2429\u001b[0m \u001b[39mexcept\u001b[39;00m resumable_media\u001b[39m.\u001b[39mInvalidResponse \u001b[39mas\u001b[39;00m exc:\n",
      "File \u001b[1;32mc:\\Users\\abhin\\AppData\\Local\\Programs\\Python\\Python39\\lib\\site-packages\\google\\cloud\\bigquery\\client.py:2979\u001b[0m, in \u001b[0;36mClient._do_multipart_upload\u001b[1;34m(self, stream, metadata, size, num_retries, timeout, project)\u001b[0m\n\u001b[0;32m   2975\u001b[0m     upload\u001b[39m.\u001b[39m_retry_strategy \u001b[39m=\u001b[39m resumable_media\u001b[39m.\u001b[39mRetryStrategy(\n\u001b[0;32m   2976\u001b[0m         max_retries\u001b[39m=\u001b[39mnum_retries\n\u001b[0;32m   2977\u001b[0m     )\n\u001b[1;32m-> 2979\u001b[0m response \u001b[39m=\u001b[39m upload\u001b[39m.\u001b[39;49mtransmit(\n\u001b[0;32m   2980\u001b[0m     \u001b[39mself\u001b[39;49m\u001b[39m.\u001b[39;49m_http, data, metadata, _GENERIC_CONTENT_TYPE, timeout\u001b[39m=\u001b[39;49mtimeout\n\u001b[0;32m   2981\u001b[0m )\n\u001b[0;32m   2983\u001b[0m \u001b[39mreturn\u001b[39;00m response\n",
      "File \u001b[1;32mc:\\Users\\abhin\\AppData\\Local\\Programs\\Python\\Python39\\lib\\site-packages\\google\\resumable_media\\requests\\upload.py:153\u001b[0m, in \u001b[0;36mMultipartUpload.transmit\u001b[1;34m(self, transport, data, metadata, content_type, timeout)\u001b[0m\n\u001b[0;32m    151\u001b[0m     \u001b[39mreturn\u001b[39;00m result\n\u001b[1;32m--> 153\u001b[0m \u001b[39mreturn\u001b[39;00m _request_helpers\u001b[39m.\u001b[39;49mwait_and_retry(\n\u001b[0;32m    154\u001b[0m     retriable_request, \u001b[39mself\u001b[39;49m\u001b[39m.\u001b[39;49m_get_status_code, \u001b[39mself\u001b[39;49m\u001b[39m.\u001b[39;49m_retry_strategy\n\u001b[0;32m    155\u001b[0m )\n",
      "File \u001b[1;32mc:\\Users\\abhin\\AppData\\Local\\Programs\\Python\\Python39\\lib\\site-packages\\google\\resumable_media\\requests\\_request_helpers.py:148\u001b[0m, in \u001b[0;36mwait_and_retry\u001b[1;34m(func, get_status_code, retry_strategy)\u001b[0m\n\u001b[0;32m    147\u001b[0m \u001b[39mtry\u001b[39;00m:\n\u001b[1;32m--> 148\u001b[0m     response \u001b[39m=\u001b[39m func()\n\u001b[0;32m    149\u001b[0m \u001b[39mexcept\u001b[39;00m _CONNECTION_ERROR_CLASSES \u001b[39mas\u001b[39;00m e:\n",
      "File \u001b[1;32mc:\\Users\\abhin\\AppData\\Local\\Programs\\Python\\Python39\\lib\\site-packages\\google\\resumable_media\\requests\\upload.py:149\u001b[0m, in \u001b[0;36mMultipartUpload.transmit.<locals>.retriable_request\u001b[1;34m()\u001b[0m\n\u001b[0;32m    145\u001b[0m result \u001b[39m=\u001b[39m transport\u001b[39m.\u001b[39mrequest(\n\u001b[0;32m    146\u001b[0m     method, url, data\u001b[39m=\u001b[39mpayload, headers\u001b[39m=\u001b[39mheaders, timeout\u001b[39m=\u001b[39mtimeout\n\u001b[0;32m    147\u001b[0m )\n\u001b[1;32m--> 149\u001b[0m \u001b[39mself\u001b[39;49m\u001b[39m.\u001b[39;49m_process_response(result)\n\u001b[0;32m    151\u001b[0m \u001b[39mreturn\u001b[39;00m result\n",
      "File \u001b[1;32mc:\\Users\\abhin\\AppData\\Local\\Programs\\Python\\Python39\\lib\\site-packages\\google\\resumable_media\\_upload.py:114\u001b[0m, in \u001b[0;36mUploadBase._process_response\u001b[1;34m(self, response)\u001b[0m\n\u001b[0;32m    113\u001b[0m \u001b[39mself\u001b[39m\u001b[39m.\u001b[39m_finished \u001b[39m=\u001b[39m \u001b[39mTrue\u001b[39;00m\n\u001b[1;32m--> 114\u001b[0m _helpers\u001b[39m.\u001b[39;49mrequire_status_code(response, (http\u001b[39m.\u001b[39;49mclient\u001b[39m.\u001b[39;49mOK,), \u001b[39mself\u001b[39;49m\u001b[39m.\u001b[39;49m_get_status_code)\n",
      "File \u001b[1;32mc:\\Users\\abhin\\AppData\\Local\\Programs\\Python\\Python39\\lib\\site-packages\\google\\resumable_media\\_helpers.py:105\u001b[0m, in \u001b[0;36mrequire_status_code\u001b[1;34m(response, status_codes, get_status_code, callback)\u001b[0m\n\u001b[0;32m    104\u001b[0m         callback()\n\u001b[1;32m--> 105\u001b[0m     \u001b[39mraise\u001b[39;00m common\u001b[39m.\u001b[39mInvalidResponse(\n\u001b[0;32m    106\u001b[0m         response,\n\u001b[0;32m    107\u001b[0m         \u001b[39m\"\u001b[39m\u001b[39mRequest failed with status code\u001b[39m\u001b[39m\"\u001b[39m,\n\u001b[0;32m    108\u001b[0m         status_code,\n\u001b[0;32m    109\u001b[0m         \u001b[39m\"\u001b[39m\u001b[39mExpected one of\u001b[39m\u001b[39m\"\u001b[39m,\n\u001b[0;32m    110\u001b[0m         \u001b[39m*\u001b[39mstatus_codes\n\u001b[0;32m    111\u001b[0m     )\n\u001b[0;32m    112\u001b[0m \u001b[39mreturn\u001b[39;00m status_code\n",
      "\u001b[1;31mInvalidResponse\u001b[0m: ('Request failed with status code', 400, 'Expected one of', <HTTPStatus.OK: 200>)",
      "\nDuring handling of the above exception, another exception occurred:\n",
      "\u001b[1;31mBadRequest\u001b[0m                                Traceback (most recent call last)",
      "\u001b[1;32mf:\\Abhi\\code\\Vscode\\phyton\\projects\\abhinand_playground.ipynb Cell 7\u001b[0m in \u001b[0;36m<cell line: 20>\u001b[1;34m()\u001b[0m\n\u001b[0;32m     <a href='vscode-notebook-cell:/f%3A/Abhi/code/Vscode/phyton/projects/abhinand_playground.ipynb#W6sZmlsZQ%3D%3D?line=12'>13</a>\u001b[0m \u001b[39m#write_disposition = 'WRITE_APPEND' will append data into the table.\u001b[39;00m\n\u001b[0;32m     <a href='vscode-notebook-cell:/f%3A/Abhi/code/Vscode/phyton/projects/abhinand_playground.ipynb#W6sZmlsZQ%3D%3D?line=13'>14</a>\u001b[0m \u001b[39m#write_disposition = 'WRITE_TRUNCATE' If the table already exists, BigQuery overwrites the table data.\u001b[39;00m\n\u001b[0;32m     <a href='vscode-notebook-cell:/f%3A/Abhi/code/Vscode/phyton/projects/abhinand_playground.ipynb#W6sZmlsZQ%3D%3D?line=14'>15</a>\u001b[0m \u001b[39m#write_disposition = 'WRITE_EMPTY' If the table already exists and contains data, a ‘duplicate’ error is returned\u001b[39;00m\n\u001b[0;32m     <a href='vscode-notebook-cell:/f%3A/Abhi/code/Vscode/phyton/projects/abhinand_playground.ipynb#W6sZmlsZQ%3D%3D?line=16'>17</a>\u001b[0m job_config \u001b[39m=\u001b[39m bigquery\u001b[39m.\u001b[39mLoadJobConfig(write_disposition\u001b[39m=\u001b[39m\u001b[39m'\u001b[39m\u001b[39mWRITE_TRUNCATE\u001b[39m\u001b[39m'\u001b[39m) \n\u001b[1;32m---> <a href='vscode-notebook-cell:/f%3A/Abhi/code/Vscode/phyton/projects/abhinand_playground.ipynb#W6sZmlsZQ%3D%3D?line=19'>20</a>\u001b[0m job \u001b[39m=\u001b[39m client\u001b[39m.\u001b[39;49mload_table_from_dataframe(df, table_id, job_config\u001b[39m=\u001b[39;49mjob_config)  \u001b[39m# Make an API request.\u001b[39;00m\n\u001b[0;32m     <a href='vscode-notebook-cell:/f%3A/Abhi/code/Vscode/phyton/projects/abhinand_playground.ipynb#W6sZmlsZQ%3D%3D?line=20'>21</a>\u001b[0m job\u001b[39m.\u001b[39mresult()  \u001b[39m# Wait for the job to complete.\u001b[39;00m\n\u001b[0;32m     <a href='vscode-notebook-cell:/f%3A/Abhi/code/Vscode/phyton/projects/abhinand_playground.ipynb#W6sZmlsZQ%3D%3D?line=22'>23</a>\u001b[0m table \u001b[39m=\u001b[39m client\u001b[39m.\u001b[39mget_table(table_id)  \u001b[39m# Make an API request.\u001b[39;00m\n",
      "File \u001b[1;32mc:\\Users\\abhin\\AppData\\Local\\Programs\\Python\\Python39\\lib\\site-packages\\google\\cloud\\bigquery\\client.py:2660\u001b[0m, in \u001b[0;36mClient.load_table_from_dataframe\u001b[1;34m(self, dataframe, destination, num_retries, job_id, job_id_prefix, location, project, job_config, parquet_compression, timeout)\u001b[0m\n\u001b[0;32m   2658\u001b[0m     \u001b[39mwith\u001b[39;00m \u001b[39mopen\u001b[39m(tmppath, \u001b[39m\"\u001b[39m\u001b[39mrb\u001b[39m\u001b[39m\"\u001b[39m) \u001b[39mas\u001b[39;00m tmpfile:\n\u001b[0;32m   2659\u001b[0m         file_size \u001b[39m=\u001b[39m os\u001b[39m.\u001b[39mpath\u001b[39m.\u001b[39mgetsize(tmppath)\n\u001b[1;32m-> 2660\u001b[0m         \u001b[39mreturn\u001b[39;00m \u001b[39mself\u001b[39;49m\u001b[39m.\u001b[39;49mload_table_from_file(\n\u001b[0;32m   2661\u001b[0m             tmpfile,\n\u001b[0;32m   2662\u001b[0m             destination,\n\u001b[0;32m   2663\u001b[0m             num_retries\u001b[39m=\u001b[39;49mnum_retries,\n\u001b[0;32m   2664\u001b[0m             rewind\u001b[39m=\u001b[39;49m\u001b[39mTrue\u001b[39;49;00m,\n\u001b[0;32m   2665\u001b[0m             size\u001b[39m=\u001b[39;49mfile_size,\n\u001b[0;32m   2666\u001b[0m             job_id\u001b[39m=\u001b[39;49mjob_id,\n\u001b[0;32m   2667\u001b[0m             job_id_prefix\u001b[39m=\u001b[39;49mjob_id_prefix,\n\u001b[0;32m   2668\u001b[0m             location\u001b[39m=\u001b[39;49mlocation,\n\u001b[0;32m   2669\u001b[0m             project\u001b[39m=\u001b[39;49mproject,\n\u001b[0;32m   2670\u001b[0m             job_config\u001b[39m=\u001b[39;49mjob_config,\n\u001b[0;32m   2671\u001b[0m             timeout\u001b[39m=\u001b[39;49mtimeout,\n\u001b[0;32m   2672\u001b[0m         )\n\u001b[0;32m   2674\u001b[0m \u001b[39mfinally\u001b[39;00m:\n\u001b[0;32m   2675\u001b[0m     os\u001b[39m.\u001b[39mremove(tmppath)\n",
      "File \u001b[1;32mc:\\Users\\abhin\\AppData\\Local\\Programs\\Python\\Python39\\lib\\site-packages\\google\\cloud\\bigquery\\client.py:2430\u001b[0m, in \u001b[0;36mClient.load_table_from_file\u001b[1;34m(self, file_obj, destination, rewind, size, num_retries, job_id, job_id_prefix, location, project, job_config, timeout)\u001b[0m\n\u001b[0;32m   2426\u001b[0m         response \u001b[39m=\u001b[39m \u001b[39mself\u001b[39m\u001b[39m.\u001b[39m_do_multipart_upload(\n\u001b[0;32m   2427\u001b[0m             file_obj, job_resource, size, num_retries, timeout, project\u001b[39m=\u001b[39mproject\n\u001b[0;32m   2428\u001b[0m         )\n\u001b[0;32m   2429\u001b[0m \u001b[39mexcept\u001b[39;00m resumable_media\u001b[39m.\u001b[39mInvalidResponse \u001b[39mas\u001b[39;00m exc:\n\u001b[1;32m-> 2430\u001b[0m     \u001b[39mraise\u001b[39;00m exceptions\u001b[39m.\u001b[39mfrom_http_response(exc\u001b[39m.\u001b[39mresponse)\n\u001b[0;32m   2432\u001b[0m \u001b[39mreturn\u001b[39;00m typing\u001b[39m.\u001b[39mcast(LoadJob, \u001b[39mself\u001b[39m\u001b[39m.\u001b[39mjob_from_resource(response\u001b[39m.\u001b[39mjson()))\n",
      "\u001b[1;31mBadRequest\u001b[0m: 400 POST https://bigquery.googleapis.com/upload/bigquery/v2/projects/abhinand-playground/jobs?uploadType=multipart: Invalid field name \"Season \". Fields must contain only letters, numbers, and underscores, start with a letter or underscore, and be at most 300 characters long."
     ]
    }
   ],
   "source": [
    "from google.cloud import bigquery\n",
    "from google.oauth2 import service_account\n",
    "import pandas as pd\n",
    "\n",
    "\n",
    "# Getting the GCP Cloud Permissions to connect Jupyter and python to Cloud database\n",
    "credentials = service_account.Credentials.from_service_account_file('F:\\\\Abhi\\\\code\\\\Vscode\\\\phyton\\\\credentials\\\\config.json')\n",
    "client = bigquery.Client('abhinand-playground',credentials)\n",
    "\n",
    "# CHANGE NAME OF TABLE HERE AFTER RUNNING CODE TO GET DATAFRAME VALUES\n",
    "table_id = 'formula1_env.regchanges'\n",
    "\n",
    "#write_disposition = 'WRITE_APPEND' will append data into the table.\n",
    "#write_disposition = 'WRITE_TRUNCATE' If the table already exists, BigQuery overwrites the table data.\n",
    "#write_disposition = 'WRITE_EMPTY' If the table already exists and contains data, a ‘duplicate’ error is returned\n",
    "\n",
    "job_config = bigquery.LoadJobConfig(write_disposition='WRITE_TRUNCATE') \n",
    "\n",
    "\n",
    "job = client.load_table_from_dataframe(df, table_id, job_config=job_config)  # Make an API request.\n",
    "job.result()  # Wait for the job to complete.\n",
    "\n",
    "table = client.get_table(table_id)  # Make an API request.\n",
    "print(\n",
    "    \"Loaded {} rows and {} columns to {}\".format(\n",
    "        table.num_rows, len(table.schema), table_id\n",
    "    )\n",
    ")"
   ]
  },
  {
   "cell_type": "markdown",
   "metadata": {},
   "source": [
    "querying the table so see the result"
   ]
  },
  {
   "cell_type": "code",
   "execution_count": 21,
   "metadata": {},
   "outputs": [
    {
     "data": {
      "text/html": [
       "<div>\n",
       "<style scoped>\n",
       "    .dataframe tbody tr th:only-of-type {\n",
       "        vertical-align: middle;\n",
       "    }\n",
       "\n",
       "    .dataframe tbody tr th {\n",
       "        vertical-align: top;\n",
       "    }\n",
       "\n",
       "    .dataframe thead th {\n",
       "        text-align: right;\n",
       "    }\n",
       "</style>\n",
       "<table border=\"1\" class=\"dataframe\">\n",
       "  <thead>\n",
       "    <tr style=\"text-align: right;\">\n",
       "      <th></th>\n",
       "      <th>season</th>\n",
       "      <th>race_name</th>\n",
       "      <th>weather</th>\n",
       "      <th>temperature</th>\n",
       "    </tr>\n",
       "  </thead>\n",
       "  <tbody>\n",
       "    <tr>\n",
       "      <th>0</th>\n",
       "      <td>2014</td>\n",
       "      <td>australian</td>\n",
       "      <td>dry</td>\n",
       "      <td>NaN</td>\n",
       "    </tr>\n",
       "    <tr>\n",
       "      <th>1</th>\n",
       "      <td>2014</td>\n",
       "      <td>malaysian</td>\n",
       "      <td>dry</td>\n",
       "      <td>33.0</td>\n",
       "    </tr>\n",
       "    <tr>\n",
       "      <th>2</th>\n",
       "      <td>2015</td>\n",
       "      <td>austrian</td>\n",
       "      <td>dry clouded 16 c</td>\n",
       "      <td>16.0</td>\n",
       "    </tr>\n",
       "    <tr>\n",
       "      <th>3</th>\n",
       "      <td>2015</td>\n",
       "      <td>monaco</td>\n",
       "      <td>dry clear sky 17 c</td>\n",
       "      <td>17.0</td>\n",
       "    </tr>\n",
       "    <tr>\n",
       "      <th>4</th>\n",
       "      <td>2015</td>\n",
       "      <td>russian</td>\n",
       "      <td>dry partly clouded 17 c</td>\n",
       "      <td>17.0</td>\n",
       "    </tr>\n",
       "  </tbody>\n",
       "</table>\n",
       "</div>"
      ],
      "text/plain": [
       "   season   race_name                  weather  temperature\n",
       "0    2014  australian                      dry          NaN\n",
       "1    2014   malaysian                      dry         33.0\n",
       "2    2015    austrian         dry clouded 16 c         16.0\n",
       "3    2015      monaco       dry clear sky 17 c         17.0\n",
       "4    2015     russian  dry partly clouded 17 c         17.0"
      ]
     },
     "execution_count": 21,
     "metadata": {},
     "output_type": "execute_result"
    }
   ],
   "source": [
    "from google.cloud import bigquery\n",
    "from google.oauth2 import service_account\n",
    "import db_dtypes\n",
    "# Construct a BigQuery client object.\n",
    "\n",
    "sql = \"\"\"\n",
    "select * from formula1_env.weather\n",
    "\"\"\"\n",
    "df_1 = client.query(sql).to_dataframe()\n",
    "df_1.head()"
   ]
  },
  {
   "cell_type": "markdown",
   "metadata": {},
   "source": [
    "To drop the table - modify the statement below with the table name and run"
   ]
  },
  {
   "cell_type": "code",
   "execution_count": 4,
   "metadata": {},
   "outputs": [
    {
     "name": "stdout",
     "output_type": "stream",
     "text": [
      "Deleted table 'formula1_env.weather'.\n"
     ]
    }
   ],
   "source": [
    "from google.cloud import bigquery\n",
    "from google.oauth2 import service_account\n",
    "\n",
    "# Construct a BigQuery client object.\n",
    "credentials = service_account.Credentials.from_service_account_file('C:\\\\coding\\\\python\\\\credentials\\\\config.json')\n",
    "client = bigquery.Client('abhinand-playground',credentials)\n",
    "\n",
    "# If the table does not exist, delete_table raises\n",
    "# google.api_core.exceptions.NotFound unless not_found_ok is True.\n",
    "table_id = 'formula1_env.weather'\n",
    "client.delete_table(table_id, not_found_ok=True)  # Make an API request.\n",
    "print(\"Deleted table '{}'.\".format(table_id))"
   ]
  }
 ],
 "metadata": {
  "kernelspec": {
   "display_name": "Python 3.9.13 64-bit",
   "language": "python",
   "name": "python3"
  },
  "language_info": {
   "codemirror_mode": {
    "name": "ipython",
    "version": 3
   },
   "file_extension": ".py",
   "mimetype": "text/x-python",
   "name": "python",
   "nbconvert_exporter": "python",
   "pygments_lexer": "ipython3",
   "version": "3.9.13"
  },
  "vscode": {
   "interpreter": {
    "hash": "861cc457284682a90133ac7d861f29971ca047f1c2f4a0a63abb5c70feadfe45"
   }
  }
 },
 "nbformat": 4,
 "nbformat_minor": 5
}
